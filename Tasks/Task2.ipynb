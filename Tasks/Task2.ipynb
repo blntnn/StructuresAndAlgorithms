{
 "cells": [
  {
   "cell_type": "markdown",
   "id": "arctic-stocks",
   "metadata": {},
   "source": [
    "### Задание №1\n",
    "Массив A состоит из целых положительных чисел длин отрезков. Составьте из трех отрезков такой треугольник, чтобы его периметр был максимально возможным. Если невозможно составить треугольник с положительной площадью функция возвращает 0."
   ]
  },
  {
   "cell_type": "code",
   "execution_count": 5,
   "id": "caring-truck",
   "metadata": {
    "scrolled": false
   },
   "outputs": [
    {
     "name": "stdout",
     "output_type": "stream",
     "text": [
      "30.59411708155671\n"
     ]
    }
   ],
   "source": [
    "import math\n",
    "\n",
    "a = [1, 2, 3, 4, 5, 6, 7, 8, 9, 10]\n",
    "a = sorted(a, reverse=True)\n",
    "s = 0\n",
    "if len(a)>=3:\n",
    "    p=(a[0]+a[1]+a[2])/2\n",
    "    s=math.sqrt(p*(p-a[0])*(p-a[1])*(p-a[2]))\n",
    "if s<0:\n",
    "    s=0\n",
    "print(s)"
   ]
  },
  {
   "cell_type": "markdown",
   "id": "maritime-conversation",
   "metadata": {},
   "source": [
    "### Задание №2\n",
    "Дан массив неотрицательных целых чисел nums. Расположите их в таком порядке, чтобы вместе они образовали максимально возможное число. Замечание: Результат может быть очень большим числом, поэтому представьте его как string, а не integer."
   ]
  },
  {
   "cell_type": "code",
   "execution_count": 7,
   "id": "alert-charm",
   "metadata": {
    "scrolled": false
   },
   "outputs": [
    {
     "name": "stdout",
     "output_type": "stream",
     "text": [
      "93229219129151130\n"
     ]
    }
   ],
   "source": [
    "class Comparator(str):\n",
    "    def __eq__(self, other):\n",
    "        return int(other+self) > int(self+other)\n",
    "    \n",
    "def get_more_num(nums, i = 0):\n",
    "    nums = [str(i) for i in nums]\n",
    "    nums.sort(reverse=True,key=Comparator)\n",
    "    print(''.join(nums))\n",
    "get_more_num([113,921,912,0,9,15,9322])"
   ]
  },
  {
   "cell_type": "markdown",
   "id": "catholic-roots",
   "metadata": {},
   "source": [
    "### Задание №3\n",
    "Дана матрица mat размером m * n, значения целочисленные. Напишите функцию, сортирующую каждую диагональ матрицы по возрастанию и возвращающую получившуюся матрицу."
   ]
  },
  {
   "cell_type": "code",
   "execution_count": 3,
   "id": "cleared-anniversary",
   "metadata": {
    "scrolled": false
   },
   "outputs": [
    {
     "name": "stdout",
     "output_type": "stream",
     "text": [
      "183\n",
      "654\n",
      "729\n"
     ]
    }
   ],
   "source": [
    "mat = [[9, 8, 7], [6, 5, 4], [3, 2, 1]]\n",
    "for k in range(len(mat)):\n",
    "    for i in range(1, len(mat)):\n",
    "        for j in range(1, len(mat[0])):\n",
    "            if (j == i) & (mat[i-1][j-1] > mat[i][j]):\n",
    "                t = mat[i-1][j-1]\n",
    "                mat[i-1][j-1] = mat[i][j]\n",
    "                mat[i][j] = t\n",
    "for k in range(len(mat)):\n",
    "    for i in range(len(mat)-1):\n",
    "        for j in range(1, len(mat[0])):\n",
    "            if (i == len(mat[i])-j-1) and (mat[i+1][j-1] < mat[i][j]):\n",
    "                t = mat[i+1][j-1]\n",
    "                mat[i+1][j-1] = mat[i][j]\n",
    "                mat[i][j] = t\n",
    "for i in range(len(mat)):\n",
    "    s = \"\"\n",
    "    for j in range(len(mat[i])):\n",
    "        s += str(mat[i][j])\n",
    "    print(s)"
   ]
  },
  {
   "cell_type": "code",
   "execution_count": null,
   "id": "7e7cee8d",
   "metadata": {},
   "outputs": [],
   "source": []
  }
 ],
 "metadata": {
  "kernelspec": {
   "display_name": "Python 3",
   "language": "python",
   "name": "python3"
  },
  "language_info": {
   "codemirror_mode": {
    "name": "ipython",
    "version": 3
   },
   "file_extension": ".py",
   "mimetype": "text/x-python",
   "name": "python",
   "nbconvert_exporter": "python",
   "pygments_lexer": "ipython3",
   "version": "3.9.0"
  }
 },
 "nbformat": 4,
 "nbformat_minor": 5
}
